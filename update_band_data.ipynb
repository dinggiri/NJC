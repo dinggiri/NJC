{
 "cells": [
  {
   "cell_type": "code",
   "execution_count": null,
   "id": "b2407750",
   "metadata": {},
   "outputs": [],
   "source": [
    "import pandas as pd\n",
    "band_edata = pd.read_csv('band_실전사례.csv', encoding='utf-8', index_col=0)\n",
    "band_qdata = pd.read_csv('band_질문답변.csv', encoding='utf-8', index_col=0)\n",
    "member_data = pd.read_csv('k99_member_list_complete.csv', encoding='CP949')\n",
    "\n",
    "band_edata.insert(4, 'member_name', None)\n",
    "band_qdata.insert(4, 'member_name', None)\n",
    "member_data = member_data[0:313]\n",
    "\n",
    "print(f'band_edata shape: {band_edata.shape}\\nband_qdata shape: {band_qdata.shape}')"
   ]
  },
  {
   "cell_type": "code",
   "execution_count": null,
   "id": "0dab46eb",
   "metadata": {},
   "outputs": [],
   "source": [
    "band_qdata"
   ]
  },
  {
   "cell_type": "code",
   "execution_count": null,
   "id": "28f922c3",
   "metadata": {},
   "outputs": [],
   "source": [
    "member_data"
   ]
  },
  {
   "cell_type": "code",
   "execution_count": null,
   "id": "d63a9d52",
   "metadata": {},
   "outputs": [],
   "source": [
    "########################\n",
    "##### Create member list\n",
    "########################\n",
    "\n",
    "### member_data의 '이름'을 실제 밴드 닉네임에 포함된 'author_name'으로 넣기\n",
    "## 나중에 band_data와 연결하기 위해...\n",
    "\n",
    "name_list = list(member_data['이름'])\n",
    "name_list[name_list.index('문미숙 강정일')] = '강정일'\n",
    "name_list[name_list.index('정종건 정종호')] = '정종호'\n",
    "name_list[name_list.index('강은경 배대윤')] = '배대윤'\n",
    "name_list[name_list.index('원창선 박영희')] = '박영희'\n",
    "name_list[name_list.index('신종하 김종희')] = '신종하'\n",
    "name_list[name_list.index('박현주 김노경')] = '김노경'\n",
    "name_list[name_list.index('황진기 신혜숙')] = '황진기'\n",
    "name_list[name_list.index('허경림 황태일')] = '허경림'\n",
    "name_list[name_list.index('안귀환 김주현')] = '안귀환'\n",
    "name_list.append('김주현')\n",
    "name_list[name_list.index('정서현 김용대 김평곤')] = '김용대'\n",
    "name_list[name_list.index('김현정 박중숙')] = '박중숙'\n",
    "name_list[name_list.index('홍은조 한창희')] = '한창희'\n",
    "name_list[name_list.index('김해 월드 유승정')] = '유승정'\n",
    "name_list[name_list.index('김성균 조부현')] = '조부현'\n",
    "name_list[name_list.index('송석길 장양임')] = '송석길'\n",
    "name_list.append('장양임')\n",
    "name_list[name_list.index('차정호 조명호')] = '조명호'\n",
    "name_list[name_list.index('정운표 정현철 정희경')] = '정현철'\n",
    "name_list[name_list.index('장병호 박옥주')] = '장병호'\n",
    "name_list[name_list.index('신동철 이명옥')] = '이명옥'\n",
    "name_list[name_list.index('박재일 박주성')] = '박주성'\n",
    "name_list[name_list.index('김남진 오택선')] = '오택선'\n",
    "name_list[name_list.index('전미경 장종기')] = '장종기'\n",
    "name_list[name_list.index('남인숙 김영권')] = '김영권'\n",
    "name_list[name_list.index('윤현정 조규종')] = '윤현정'\n",
    "name_list.append('조규종')\n",
    "name_list[name_list.index('김영규 이상곤')] = '김영규1'\n",
    "name_list[name_list.index('김미경 윤태훈')] = '윤태훈'\n",
    "name_list[name_list.index('진성 강계순')] = '강계순'\n",
    "name_list[name_list.index('임상선 유영임')] = '유영임'\n",
    "name_list[name_list.index('정원조 정운조')] = '정원조'\n",
    "name_list[name_list.index('허태은 구나영')] = '허태은'\n",
    "name_list.append('구나영')\n",
    "name_list[name_list.index('박순덕 김용수')] = '박순덕'\n",
    "name_list.append('김용수')\n",
    "name_list[name_list.index('오태선 김명숙')] = '오태선'\n",
    "name_list.append('김명숙')\n",
    "name_list[name_list.index('장덕호 곽미자')] = '장덕호'\n",
    "name_list.append('곽미자')\n",
    "name_list[name_list.index('정달영 우영')] = '정달영'\n",
    "name_list.append('정우영')\n",
    "name_list[63] = '김동기1'\n",
    "name_list[252] = '김동기2'"
   ]
  },
  {
   "cell_type": "code",
   "execution_count": null,
   "id": "f6778907",
   "metadata": {},
   "outputs": [],
   "source": [
    "def indices(lst, item):\n",
    "    return [i for i, x in enumerate(lst) if x == item]\n",
    "dict((x, indices(name_list, x)) for x in set(name_list) if name_list.count(x) > 1)"
   ]
  },
  {
   "cell_type": "code",
   "execution_count": null,
   "id": "47d141a8",
   "metadata": {},
   "outputs": [],
   "source": [
    "### Member list\n",
    "name_list"
   ]
  },
  {
   "cell_type": "code",
   "execution_count": null,
   "id": "80ada7b5",
   "metadata": {},
   "outputs": [],
   "source": [
    "### Add member_name to each author\n",
    "for name in name_list:\n",
    "    temp_eindices = list(band_edata[band_edata['author_name'].str.contains(name)].index)\n",
    "    temp_qindices = list(band_qdata[band_qdata['author_name'].str.contains(name)].index)\n",
    "    for i in temp_eindices:\n",
    "        band_edata.at[i, 'member_name'] = name\n",
    "    for j in temp_qindices:\n",
    "        band_qdata.at[j, 'member_name'] = name\n",
    "        \n",
    "\n",
    "### Insert member_name manually for those who don't include their real name in author name\n",
    "exc_name_list = ([['조 철상 수원', '조철상'], ['삼성 세탁소', '송석길, 장양임'], \n",
    "                 ['한양대 정재윤', '정재윤'], ['대전청소크린크린', '정계묵'], ['뿔리또', '오경준'], \n",
    "                  ['광주 삼성세탁 신철우', '신철우'], ['이서오', '한정원'], ['신포천세탁소', '심혁동'],\n",
    "                  ['세탁의 품격', '김주홍'], ['인천ㅣ김영규', '김영규1'], ['김동기수원영통', '김동기2'],\n",
    "                 ['김동기', '김동기1'], ['자이명품', '김명수']])\n",
    "                #['김복순']\n",
    "for ename in exc_name_list:\n",
    "    exc_temp_eindices = list(band_edata[band_edata['author_name'].str.contains(ename[0])].index)\n",
    "    exc_temp_qindices = list(band_qdata[band_qdata['author_name'].str.contains(ename[0])].index)\n",
    "    for i in exc_temp_eindices:\n",
    "        band_edata.at[i, 'member_name'] = ename[1]\n",
    "    for j in exc_temp_qindices:\n",
    "        band_qdata.at[j, 'member_name'] = ename[1]"
   ]
  },
  {
   "cell_type": "code",
   "execution_count": null,
   "id": "df6d9c61",
   "metadata": {},
   "outputs": [],
   "source": [
    "band_edata"
   ]
  },
  {
   "cell_type": "code",
   "execution_count": null,
   "id": "560dbace",
   "metadata": {},
   "outputs": [],
   "source": [
    "def change_name(df, col_name, Bs, As):\n",
    "    temp_index_list = list(df[df[col_name] == Bs].index)\n",
    "    for i in temp_index_list:\n",
    "        df.at[i, col_name] = As\n",
    "\n",
    "### change 'member_name' to original pair name\n",
    "oname_list = ([ ['문미숙 강정일','강정일'], ['정종건 정종호', '정종호'], ['강은경 배대윤', '배대윤'], \n",
    "               ['원창선 박영희', '박영희'], ['신종하 김종희', '신종하'], ['박현주 김노경', '김노경'], \n",
    "               ['황진기 신혜숙', '황진기'], ['허경림 황태일', '허경림'], ['안귀환 김주현', '안귀환'], \n",
    "               ['정서현 김용대 김평곤', '김용대'], ['김현정 박중숙', '박중숙'], \n",
    "               ['홍은조 한창희', '한창희'], ['김해 월드 유승정', '유승정'], ['김성균 조부현', '조부현'],\n",
    "               ['송석길 장양임', '송석길, 장양임'], ['차정호 조명호', '조명호'], \n",
    "               ['정운표 정현철 정희경', '정현철'], ['장병호 박옥주', '장병호'], \n",
    "               ['신동철 이명옥', '이명옥'], ['박재일 박주성', '박주성'], ['김남진 오택선', '오택선'], \n",
    "               ['전미경 장종기', '장종기'], ['남인숙 김영권', '김영권'], ['윤현정 조규종', '윤현정'], \n",
    "               ['김영규 이상곤', '김영규1'], ['김미경 윤태훈', '윤태훈'], ['진성 강계순', '강계순'], \n",
    "               ['임상선 유영임', '유영임'], ['정원조 정운조', '정원조'], ['허태은 구나영', '허태은'], \n",
    "               ['박순덕 김용수', '박순덕'], ['오태선 김명숙', '오태선'], ['장덕호 곽미자', '장덕호'], \n",
    "               ['정달영 우영', '정달영'] ])\n",
    "\n",
    "for oname in oname_list:\n",
    "    change_name(band_edata, 'member_name', oname[1], oname[0])\n",
    "    change_name(band_qdata, 'member_name', oname[1], oname[0])"
   ]
  },
  {
   "cell_type": "code",
   "execution_count": null,
   "id": "aefc8516",
   "metadata": {},
   "outputs": [],
   "source": [
    "band_edata.head()"
   ]
  },
  {
   "cell_type": "code",
   "execution_count": null,
   "id": "2c8a32d7",
   "metadata": {},
   "outputs": [],
   "source": [
    "#############################################\n",
    "##### * Edit member_data for duplicated names\n",
    "#############################################\n",
    "\n",
    "# 김영규1: 인천 | 김영규 (김영규 이상곤) , 김영규2: ? (김영규)\n",
    "change_name(member_data, '이름', '김영규', '김영규2')\n",
    "# 김동기1: 김동기 (김동기) , 김동기2: 김동기수원영통 (김동기)\n",
    "temp_index = member_data[(member_data['이름'] == '김동기') & (member_data['순서'] == '65-1')].index\n",
    "member_data.at[temp_index[0], '이름'] = '김동기1'\n",
    "temp_index = member_data[(member_data['이름'] == '김동기') & (member_data['순서'] == '255')].index\n",
    "member_data.at[temp_index[0], '이름'] = '김동기2'"
   ]
  },
  {
   "cell_type": "code",
   "execution_count": null,
   "id": "7f95a023",
   "metadata": {
    "scrolled": false
   },
   "outputs": [],
   "source": [
    "#############################################\n",
    "##### Add 'member_id' column to the band_data\n",
    "#############################################\n",
    "\n",
    "### 실전사례 data update\n",
    "update_band_edata = pd.merge(band_edata, member_data[['순서', '이름']], left_on='member_name', right_on='이름', how='left')\n",
    "update_band_edata = update_band_edata.drop(columns='이름')\n",
    "update_band_edata = update_band_edata[['created_at', 'post_key', 'content', 'author_name', 'member_name', '순서', \n",
    "       'author_image_url', 'author_key', 'photo_info', 'photo_url',\n",
    "       'video_info', 'video_url', 'comment_author_name',\n",
    "       'comment_author_image_url', 'comment_author_key', 'comment_key',\n",
    "       'comment_created_at', 'comment_content', 'comment_photo_info',\n",
    "       'comment_photo_url', 'comment_video_info', 'comment_video_url',\n",
    "       'com_comment', 'post_url']]\n",
    "update_band_edata.rename(columns = {'순서':'member_id'},inplace=True)\n",
    "\n",
    "\n",
    "### 질문답변 data update\n",
    "update_band_qdata = pd.merge(band_qdata, member_data[['순서', '이름']], left_on='member_name', right_on='이름', how='left')\n",
    "update_band_qdata = update_band_qdata.drop(columns='이름')\n",
    "update_band_qdata = update_band_qdata[['created_at', 'post_key', 'content', 'author_name', 'member_name', '순서', \n",
    "       'author_image_url', 'author_key', 'photo_info', 'photo_url',\n",
    "       'video_info', 'video_url', 'comment_author_name',\n",
    "       'comment_author_image_url', 'comment_author_key', 'comment_key',\n",
    "       'comment_created_at', 'comment_content', 'comment_photo_info',\n",
    "       'comment_photo_url', 'comment_video_info', 'comment_video_url',\n",
    "       'com_comment', 'post_url']]\n",
    "update_band_qdata.rename(columns = {'순서':'member_id'},inplace=True)"
   ]
  },
  {
   "cell_type": "code",
   "execution_count": null,
   "id": "be85144a",
   "metadata": {},
   "outputs": [],
   "source": [
    "#####################################################################\n",
    "##### * restore member_data & update_band_data for duplicated names\n",
    "#####################################################################\n",
    "\n",
    "\n",
    "##### member_data\n",
    "# 김영규1: 인천 | 김영규 (김영규 이상곤) , 김영규2: ? (김영규)\n",
    "change_name(member_data, '이름', '김영규2', '김영규')\n",
    "# 김동기1: 김동기 (김동기) , 김동기2: 김동기수원영통 (김동기)\n",
    "change_name(member_data, '이름', '김동기1', '김동기')\n",
    "change_name(member_data, '이름', '김동기2', '김동기')\n",
    "\n",
    "\n",
    "##### update_band_data (member_name)\n",
    "change_name(update_band_edata, 'member_name', '김영규2', '김영규')\n",
    "change_name(update_band_qdata, 'member_name', '김영규2', '김영규')\n",
    "change_name(update_band_edata, 'member_name', '김동기1', '김동기')\n",
    "change_name(update_band_qdata, 'member_name', '김동기1', '김동기')\n",
    "change_name(update_band_edata, 'member_name', '김동기2', '김동기')\n",
    "change_name(update_band_qdata, 'member_name', '김동기2', '김동기')\n",
    "\n",
    "### 한양대 정재윤 id 추가\n",
    "temp_index_list = list(update_band_edata[update_band_edata['member_name'] == '정재윤'].index)\n",
    "for i in temp_index_list:\n",
    "    update_band_edata.at[i, 'member_id'] = 0\n",
    "temp_index_list = list(update_band_qdata[update_band_qdata['member_name'] == '정재윤'].index)\n",
    "for i in temp_index_list:\n",
    "    update_band_qdata.at[i, 'member_id'] = 0"
   ]
  },
  {
   "cell_type": "code",
   "execution_count": null,
   "id": "3dfc34c5",
   "metadata": {},
   "outputs": [],
   "source": [
    "print(update_band_edata.shape)\n",
    "print(update_band_qdata.shape)"
   ]
  },
  {
   "cell_type": "code",
   "execution_count": null,
   "id": "4bfedf62",
   "metadata": {},
   "outputs": [],
   "source": [
    "update_band_edata[update_band_edata['member_id'].isnull()]"
   ]
  },
  {
   "cell_type": "code",
   "execution_count": null,
   "id": "6f292e64",
   "metadata": {},
   "outputs": [],
   "source": [
    "update_band_edata.head()"
   ]
  },
  {
   "cell_type": "code",
   "execution_count": null,
   "id": "4d1e68ae",
   "metadata": {},
   "outputs": [],
   "source": [
    "update_band_qdata.head()"
   ]
  },
  {
   "cell_type": "code",
   "execution_count": null,
   "id": "fa826ce3",
   "metadata": {},
   "outputs": [],
   "source": [
    "update_band_edata.to_csv('./update_band_실전사례.csv', encoding='utf-8-sig')\n",
    "update_band_qdata.to_csv('./update_band_질문답변.csv', encoding='utf-8-sig')"
   ]
  },
  {
   "cell_type": "code",
   "execution_count": null,
   "id": "a2424958",
   "metadata": {},
   "outputs": [],
   "source": []
  }
 ],
 "metadata": {
  "kernelspec": {
   "display_name": "Python 3",
   "language": "python",
   "name": "python3"
  },
  "language_info": {
   "codemirror_mode": {
    "name": "ipython",
    "version": 3
   },
   "file_extension": ".py",
   "mimetype": "text/x-python",
   "name": "python",
   "nbconvert_exporter": "python",
   "pygments_lexer": "ipython3",
   "version": "3.10.4 (tags/v3.10.4:9d38120, Mar 23 2022, 23:13:41) [MSC v.1929 64 bit (AMD64)]"
  },
  "vscode": {
   "interpreter": {
    "hash": "fb4569285eef3a3450cb62085a5b1e0da4bce0af555edc33dcf29baf3acc1368"
   }
  }
 },
 "nbformat": 4,
 "nbformat_minor": 5
}
